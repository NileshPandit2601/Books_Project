{
 "cells": [
  {
   "cell_type": "code",
   "execution_count": 1,
   "id": "319165d5-6c0d-46e9-9e0f-0aa68e4c2a8b",
   "metadata": {},
   "outputs": [],
   "source": [
    "import requests\n",
    "from bs4 import BeautifulSoup\n",
    "import pandas as pd"
   ]
  },
  {
   "cell_type": "code",
   "execution_count": 3,
   "id": "da732dc5-3bea-491b-9a67-f076c6bafece",
   "metadata": {},
   "outputs": [],
   "source": [
    "rating_map = {\n",
    "    \"One\": 1,\n",
    "    \"Two\": 2,\n",
    "    \"Three\": 3,\n",
    "    \"Four\": 4,\n",
    "    \"Five\": 5\n",
    "}\n",
    "\n",
    "all_books = []\n",
    "\n",
    "for page in range(1, 51):\n",
    "    url = f\"https://books.toscrape.com/catalogue/page-{page}.html\"\n",
    "    response = requests.get(url)\n",
    "    response.encoding = 'utf-8'  \n",
    "\n",
    "    soup = BeautifulSoup(response.text, 'html.parser')\n",
    "    books = soup.find_all(\"article\", class_=\"product_pod\")\n",
    "\n",
    "    for book in books:\n",
    "        title = book.h3.a['title']\n",
    "        \n",
    "        price_text = book.find(\"p\", class_=\"price_color\").text.strip()\n",
    "        price = float(price_text.replace('£', '')) \n",
    "\n",
    "        availability = book.find(\"p\", class_=\"instock availability\").text.strip()\n",
    "        rating_word = book.find(\"p\", class_=\"star-rating\").get('class')[1]\n",
    "        rating = rating_map.get(rating_word, 0)\n",
    "\n",
    "        all_books.append({\n",
    "            \"Title\": title,\n",
    "            \"Price\": price,\n",
    "            \"Availability\": availability,\n",
    "            \"Rating\": rating\n",
    "        })"
   ]
  },
  {
   "cell_type": "code",
   "execution_count": 4,
   "id": "4c3a8b3f-ddca-42a8-b466-e7c11e95943a",
   "metadata": {},
   "outputs": [],
   "source": [
    "df = pd.DataFrame(all_books)\n",
    "\n",
    "df.to_csv(\"books4.csv\", index=False)"
   ]
  },
  {
   "cell_type": "code",
   "execution_count": 7,
   "id": "5bdb8a26-2059-4cd5-90b8-a25e57d19f5d",
   "metadata": {},
   "outputs": [],
   "source": [
    "df = pd.read_csv('books4.csv')\n"
   ]
  },
  {
   "cell_type": "code",
   "execution_count": 15,
   "id": "975baf82-40b8-452d-a561-b52f9f91ff85",
   "metadata": {},
   "outputs": [],
   "source": [
    "import re"
   ]
  },
  {
   "cell_type": "code",
   "execution_count": 9,
   "id": "cd1c40da-ff5a-4343-bcc3-aa3b0ad8f8eb",
   "metadata": {},
   "outputs": [],
   "source": [
    "\n",
    "\n",
    "def clean_title(title):\n",
    "    return re.sub(r'[^A-Za-z\\s]', '', str(title))\n"
   ]
  },
  {
   "cell_type": "code",
   "execution_count": 11,
   "id": "002d7f0c-8a9a-464f-b96d-97c12f35abfa",
   "metadata": {},
   "outputs": [],
   "source": [
    "df['Title'] = df['Title'].apply(clean_title)\n"
   ]
  },
  {
   "cell_type": "code",
   "execution_count": 13,
   "id": "d1b004cb-69cb-4dec-92e6-4907e3ae4449",
   "metadata": {},
   "outputs": [],
   "source": [
    "df.to_csv('books4_cleaned2.csv', index=False)\n"
   ]
  },
  {
   "cell_type": "code",
   "execution_count": null,
   "id": "69f80e98-2115-48ff-be2a-0869db6f78d6",
   "metadata": {},
   "outputs": [],
   "source": []
  }
 ],
 "metadata": {
  "kernelspec": {
   "display_name": "Python 3 (ipykernel)",
   "language": "python",
   "name": "python3"
  },
  "language_info": {
   "codemirror_mode": {
    "name": "ipython",
    "version": 3
   },
   "file_extension": ".py",
   "mimetype": "text/x-python",
   "name": "python",
   "nbconvert_exporter": "python",
   "pygments_lexer": "ipython3",
   "version": "3.12.7"
  }
 },
 "nbformat": 4,
 "nbformat_minor": 5
}
